{
 "cells": [
  {
   "cell_type": "markdown",
   "metadata": {},
   "source": [
    "# Analyse des données et prétraitement"
   ]
  },
  {
   "cell_type": "markdown",
   "metadata": {},
   "source": [
    "## Regroupement des données"
   ]
  },
  {
   "cell_type": "code",
   "execution_count": null,
   "metadata": {},
   "outputs": [
    {
     "name": "stderr",
     "output_type": "stream",
     "text": [
      "C:\\Users\\brufl\\AppData\\Local\\Temp\\ipykernel_17720\\36936845.py:13: FutureWarning: The 'delim_whitespace' keyword in pd.read_csv is deprecated and will be removed in a future version. Use ``sep='\\s+'`` instead\n",
      "  demographics_df = pd.read_csv(\n"
     ]
    },
    {
     "name": "stdout",
     "output_type": "stream",
     "text": [
      "   patient recording_index chest_location acquisition_mode  \\\n",
      "0      101             1b1             Al               sc   \n",
      "1      101             1b1             Al               sc   \n",
      "2      101             1b1             Al               sc   \n",
      "3      101             1b1             Al               sc   \n",
      "4      101             1b1             Al               sc   \n",
      "\n",
      "  recording_equipment diagnosis  age sex  adult_bmi  child_weight  \\\n",
      "0            Meditron      URTI  3.0   F        NaN          19.0   \n",
      "1            Meditron      URTI  3.0   F        NaN          19.0   \n",
      "2            Meditron      URTI  3.0   F        NaN          19.0   \n",
      "3            Meditron      URTI  3.0   F        NaN          19.0   \n",
      "4            Meditron      URTI  3.0   F        NaN          19.0   \n",
      "\n",
      "   child_height  begin_time  end_time  crackles  wheezes  \n",
      "0          99.0       0.036     0.579         0        0  \n",
      "1          99.0       0.579     2.450         0        0  \n",
      "2          99.0       2.450     3.893         0        0  \n",
      "3          99.0       3.893     5.793         0        0  \n",
      "4          99.0       5.793     7.521         0        0  \n"
     ]
    }
   ],
   "source": [
    "import os\n",
    "import pandas as pd\n",
    "\n",
    "# Chemins vers les répertoires et fichiers\n",
    "data_dir = \"data/audio_and_txt_files\"\n",
    "diagnosis_file = \"data/patient_diagnosis.csv\"\n",
    "demographics_file = \"data/demographic_info.txt\"\n",
    "\n",
    "# Charger le fichier des diagnostics\n",
    "diagnosis_df = pd.read_csv(diagnosis_file, header=None, names=[\"patient\", \"diagnosis\"])\n",
    "\n",
    "# Charger le fichier des informations démographiques\n",
    "demographics_df = pd.read_csv(\n",
    "    demographics_file,\n",
    "    delim_whitespace=True,  # Utiliser détection d'espaces multiples comme séparateur\n",
    "    header=None,\n",
    "    names=[\"patient\", \"age\", \"sex\", \"adult_bmi\", \"child_weight\", \"child_height\"],\n",
    "    na_values=[\"NA\"]  # Gérer NA comme valeur manquante\n",
    ")\n",
    "\n",
    "# Initialisation de la liste pour stocker les données\n",
    "data = []\n",
    "\n",
    "# Parcourir les fichiers audio et texte\n",
    "for filename in os.listdir(data_dir):\n",
    "    if filename.endswith(\".wav\"):  # Fichiers audio\n",
    "        # Extraire les métadonnées à partir du nom de fichier\n",
    "        parts = filename.split(\"_\")\n",
    "        patient = int(parts[0])\n",
    "        recording_index = parts[1]\n",
    "        chest_location = parts[2]\n",
    "        acquisition_mode = parts[3]\n",
    "        recording_equipment = parts[4].split(\".\")[0]\n",
    "        \n",
    "        # Associer le diagnostic\n",
    "        diagnosis = diagnosis_df.loc[diagnosis_df[\"patient\"] == patient, \"diagnosis\"]\n",
    "        diagnosis = diagnosis.iloc[0] if not diagnosis.empty else \"Unknown\"\n",
    "\n",
    "        # Associer les informations démographiques\n",
    "        demographics = demographics_df.loc[demographics_df[\"patient\"] == patient]\n",
    "        if not demographics.empty:\n",
    "            age = demographics[\"age\"].iloc[0]\n",
    "            sex = demographics[\"sex\"].iloc[0]\n",
    "            adult_bmi = demographics[\"adult_bmi\"].iloc[0]\n",
    "            child_weight = demographics[\"child_weight\"].iloc[0]\n",
    "            child_height = demographics[\"child_height\"].iloc[0]\n",
    "        else:\n",
    "            age, sex, adult_bmi, child_weight, child_height = None, None, None, None, None\n",
    "\n",
    "        # Charger le fichier texte correspondant\n",
    "        txt_filename = filename.replace(\".wav\", \".txt\")\n",
    "        txt_filepath = os.path.join(data_dir, txt_filename)\n",
    "        \n",
    "        if os.path.exists(txt_filepath):\n",
    "            with open(txt_filepath, \"r\") as file:\n",
    "                for line in file:\n",
    "                    begin_time, end_time, crackles, wheezes = map(float, line.strip().split(\"\\t\"))\n",
    "                    data.append({\n",
    "                        \"patient\": patient,\n",
    "                        \"recording_index\": recording_index,\n",
    "                        \"chest_location\": chest_location,\n",
    "                        \"acquisition_mode\": acquisition_mode,\n",
    "                        \"recording_equipment\": recording_equipment,\n",
    "                        \"diagnosis\": diagnosis,\n",
    "                        \"age\": age,\n",
    "                        \"sex\": sex,\n",
    "                        \"adult_bmi\": adult_bmi,\n",
    "                        \"child_weight\": child_weight,\n",
    "                        \"child_height\": child_height,\n",
    "                        \"begin_time\": begin_time,\n",
    "                        \"end_time\": end_time,\n",
    "                        \"crackles\": int(crackles),\n",
    "                        \"wheezes\": int(wheezes),\n",
    "                    })\n",
    "\n",
    "# Créer un DataFrame à partir des données\n",
    "df = pd.DataFrame(data)\n",
    "\n",
    "# Sauvegarder dans un fichier CSV\n",
    "df.to_csv(\"data/processed_data.csv\", index=False)\n"
   ]
  },
  {
   "cell_type": "markdown",
   "metadata": {},
   "source": [
    "## Analyse des données"
   ]
  }
 ],
 "metadata": {
  "kernelspec": {
   "display_name": "Python 3",
   "language": "python",
   "name": "python3"
  },
  "language_info": {
   "codemirror_mode": {
    "name": "ipython",
    "version": 3
   },
   "file_extension": ".py",
   "mimetype": "text/x-python",
   "name": "python",
   "nbconvert_exporter": "python",
   "pygments_lexer": "ipython3",
   "version": "3.11.10"
  }
 },
 "nbformat": 4,
 "nbformat_minor": 2
}
