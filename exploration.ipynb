{
 "cells": [
  {
   "cell_type": "markdown",
   "metadata": {},
   "source": [
    "# Analyse des données et prétraitement"
   ]
  },
  {
   "cell_type": "code",
   "execution_count": null,
   "metadata": {},
   "outputs": [],
   "source": [
    "import os\n",
    "import pandas as pd\n",
    "\n",
    "# Chemins vers les répertoires et fichiers\n",
    "data_dir = \"data/audio_and_txt_files\"\n",
    "diagnosis_file = \"data/patient_diagnosis.csv\"\n",
    "\n",
    "# Charger le fichier des diagnostics\n",
    "diagnosis_df = pd.read_csv(diagnosis_file, header=None, names=[\"patient\", \"diagnosis\"])\n",
    "\n",
    "# Initialisation de la liste pour stocker les données\n",
    "data = []\n",
    "\n",
    "# Parcourir les fichiers audio et texte\n",
    "for filename in os.listdir(data_dir):\n",
    "    if filename.endswith(\".wav\"):  # Fichiers audio\n",
    "        # Extraire les métadonnées à partir du nom de fichier\n",
    "        parts = filename.split(\"_\")\n",
    "        patient = int(parts[0])\n",
    "        recording_index = parts[1]\n",
    "        chest_location = parts[2]\n",
    "        acquisition_mode = parts[3]\n",
    "        recording_equipment = parts[4].split(\".\")[0]\n",
    "        \n",
    "        # Associer le diagnostic\n",
    "        diagnosis = diagnosis_df.loc[diagnosis_df[\"patient\"] == patient, \"diagnosis\"].values[0]\n",
    "\n",
    "        # Charger le fichier texte correspondant\n",
    "        txt_filename = filename.replace(\".wav\", \".txt\")\n",
    "        txt_filepath = os.path.join(data_dir, txt_filename)\n",
    "        \n",
    "        if os.path.exists(txt_filepath):\n",
    "            with open(txt_filepath, \"r\") as file:\n",
    "                for line in file:\n",
    "                    begin_time, end_time, crackles, wheezes = map(float, line.strip().split(\"\\t\"))\n",
    "                    data.append({\n",
    "                        \"patient\": patient,\n",
    "                        \"recording_index\": recording_index,\n",
    "                        \"chest_location\": chest_location,\n",
    "                        \"acquisition_mode\": acquisition_mode,\n",
    "                        \"recording_equipment\": recording_equipment,\n",
    "                        \"diagnosis\": diagnosis,\n",
    "                        \"begin_time\": begin_time,\n",
    "                        \"end_time\": end_time,\n",
    "                        \"crackles\": int(crackles),\n",
    "                        \"wheezes\": int(wheezes),\n",
    "                    })\n",
    "\n",
    "# Créer un DataFrame à partir des données\n",
    "df = pd.DataFrame(data)\n",
    "\n",
    "# Sauvegarder dans un fichier CSV si nécessaire\n",
    "df.to_csv(\"data/processed_data.csv\", index=False)"
   ]
  }
 ],
 "metadata": {
  "kernelspec": {
   "display_name": "Python 3",
   "language": "python",
   "name": "python3"
  },
  "language_info": {
   "codemirror_mode": {
    "name": "ipython",
    "version": 3
   },
   "file_extension": ".py",
   "mimetype": "text/x-python",
   "name": "python",
   "nbconvert_exporter": "python",
   "pygments_lexer": "ipython3",
   "version": "3.11.10"
  }
 },
 "nbformat": 4,
 "nbformat_minor": 2
}
