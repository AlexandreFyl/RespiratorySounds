{
 "cells": [
  {
   "cell_type": "code",
   "execution_count": 15,
   "metadata": {},
   "outputs": [],
   "source": [
    "import numpy as np\n",
    "import pandas as pd\n",
    "import tensorflow as tf\n",
    "from tensorflow import keras\n",
    "import matplotlib.pyplot as plt\n",
    "import librosa as lb\n",
    "import librosa.display as lbd\n",
    "import os\n",
    "import soundfile as sf"
   ]
  },
  {
   "cell_type": "markdown",
   "metadata": {},
   "source": [
    "# Reading and Utilizing Provided Data"
   ]
  },
  {
   "cell_type": "code",
   "execution_count": 16,
   "metadata": {},
   "outputs": [
    {
     "data": {
      "text/html": [
       "<div>\n",
       "<style scoped>\n",
       "    .dataframe tbody tr th:only-of-type {\n",
       "        vertical-align: middle;\n",
       "    }\n",
       "\n",
       "    .dataframe tbody tr th {\n",
       "        vertical-align: top;\n",
       "    }\n",
       "\n",
       "    .dataframe thead th {\n",
       "        text-align: right;\n",
       "    }\n",
       "</style>\n",
       "<table border=\"1\" class=\"dataframe\">\n",
       "  <thead>\n",
       "    <tr style=\"text-align: right;\">\n",
       "      <th></th>\n",
       "      <th>pid</th>\n",
       "      <th>disease</th>\n",
       "    </tr>\n",
       "  </thead>\n",
       "  <tbody>\n",
       "    <tr>\n",
       "      <th>0</th>\n",
       "      <td>101</td>\n",
       "      <td>URTI</td>\n",
       "    </tr>\n",
       "    <tr>\n",
       "      <th>1</th>\n",
       "      <td>102</td>\n",
       "      <td>Healthy</td>\n",
       "    </tr>\n",
       "    <tr>\n",
       "      <th>2</th>\n",
       "      <td>103</td>\n",
       "      <td>Asthma</td>\n",
       "    </tr>\n",
       "    <tr>\n",
       "      <th>3</th>\n",
       "      <td>104</td>\n",
       "      <td>COPD</td>\n",
       "    </tr>\n",
       "    <tr>\n",
       "      <th>4</th>\n",
       "      <td>105</td>\n",
       "      <td>URTI</td>\n",
       "    </tr>\n",
       "  </tbody>\n",
       "</table>\n",
       "</div>"
      ],
      "text/plain": [
       "   pid  disease\n",
       "0  101     URTI\n",
       "1  102  Healthy\n",
       "2  103   Asthma\n",
       "3  104     COPD\n",
       "4  105     URTI"
      ]
     },
     "execution_count": 16,
     "metadata": {},
     "output_type": "execute_result"
    }
   ],
   "source": [
    "patient_data=pd.read_csv('data/patient_diagnosis.csv',names=['pid','disease'])\n",
    "patient_data.head()"
   ]
  },
  {
   "cell_type": "code",
   "execution_count": 17,
   "metadata": {},
   "outputs": [
    {
     "data": {
      "text/plain": [
       "['102_1b1_Ar_sc_Meditron',\n",
       " '103_2b2_Ar_mc_LittC2SE',\n",
       " '104_1b1_Al_sc_Litt3200',\n",
       " '104_1b1_Ar_sc_Litt3200',\n",
       " '104_1b1_Ll_sc_Litt3200']"
      ]
     },
     "execution_count": 17,
     "metadata": {},
     "output_type": "execute_result"
    }
   ],
   "source": [
    "path='data/selected_files/'\n",
    "files=[s.split('.')[0] for s in os.listdir(path) if '.txt' in s]\n",
    "files[:5]"
   ]
  },
  {
   "cell_type": "code",
   "execution_count": 18,
   "metadata": {},
   "outputs": [],
   "source": [
    "def getFilenameInfo(file):\n",
    "    return file.split('_')"
   ]
  },
  {
   "cell_type": "code",
   "execution_count": 19,
   "metadata": {},
   "outputs": [
    {
     "data": {
      "text/plain": [
       "['160', '1b3', 'Al', 'mc', 'AKGC417L']"
      ]
     },
     "execution_count": 19,
     "metadata": {},
     "output_type": "execute_result"
    }
   ],
   "source": [
    "getFilenameInfo('160_1b3_Al_mc_AKGC417L')"
   ]
  },
  {
   "cell_type": "code",
   "execution_count": 20,
   "metadata": {},
   "outputs": [
    {
     "data": {
      "text/html": [
       "<div>\n",
       "<style scoped>\n",
       "    .dataframe tbody tr th:only-of-type {\n",
       "        vertical-align: middle;\n",
       "    }\n",
       "\n",
       "    .dataframe tbody tr th {\n",
       "        vertical-align: top;\n",
       "    }\n",
       "\n",
       "    .dataframe thead th {\n",
       "        text-align: right;\n",
       "    }\n",
       "</style>\n",
       "<table border=\"1\" class=\"dataframe\">\n",
       "  <thead>\n",
       "    <tr style=\"text-align: right;\">\n",
       "      <th></th>\n",
       "      <th>start</th>\n",
       "      <th>end</th>\n",
       "      <th>crackles</th>\n",
       "      <th>weezels</th>\n",
       "      <th>pid</th>\n",
       "      <th>mode</th>\n",
       "      <th>filename</th>\n",
       "    </tr>\n",
       "  </thead>\n",
       "  <tbody>\n",
       "    <tr>\n",
       "      <th>0</th>\n",
       "      <td>0.264</td>\n",
       "      <td>1.736</td>\n",
       "      <td>0</td>\n",
       "      <td>0</td>\n",
       "      <td>102</td>\n",
       "      <td>sc</td>\n",
       "      <td>102_1b1_Ar_sc_Meditron</td>\n",
       "    </tr>\n",
       "    <tr>\n",
       "      <th>1</th>\n",
       "      <td>1.736</td>\n",
       "      <td>3.293</td>\n",
       "      <td>0</td>\n",
       "      <td>0</td>\n",
       "      <td>102</td>\n",
       "      <td>sc</td>\n",
       "      <td>102_1b1_Ar_sc_Meditron</td>\n",
       "    </tr>\n",
       "    <tr>\n",
       "      <th>2</th>\n",
       "      <td>3.293</td>\n",
       "      <td>5.307</td>\n",
       "      <td>0</td>\n",
       "      <td>0</td>\n",
       "      <td>102</td>\n",
       "      <td>sc</td>\n",
       "      <td>102_1b1_Ar_sc_Meditron</td>\n",
       "    </tr>\n",
       "    <tr>\n",
       "      <th>3</th>\n",
       "      <td>5.307</td>\n",
       "      <td>6.636</td>\n",
       "      <td>0</td>\n",
       "      <td>0</td>\n",
       "      <td>102</td>\n",
       "      <td>sc</td>\n",
       "      <td>102_1b1_Ar_sc_Meditron</td>\n",
       "    </tr>\n",
       "    <tr>\n",
       "      <th>4</th>\n",
       "      <td>6.636</td>\n",
       "      <td>8.036</td>\n",
       "      <td>0</td>\n",
       "      <td>0</td>\n",
       "      <td>102</td>\n",
       "      <td>sc</td>\n",
       "      <td>102_1b1_Ar_sc_Meditron</td>\n",
       "    </tr>\n",
       "  </tbody>\n",
       "</table>\n",
       "</div>"
      ],
      "text/plain": [
       "   start    end  crackles  weezels  pid mode                filename\n",
       "0  0.264  1.736         0        0  102   sc  102_1b1_Ar_sc_Meditron\n",
       "1  1.736  3.293         0        0  102   sc  102_1b1_Ar_sc_Meditron\n",
       "2  3.293  5.307         0        0  102   sc  102_1b1_Ar_sc_Meditron\n",
       "3  5.307  6.636         0        0  102   sc  102_1b1_Ar_sc_Meditron\n",
       "4  6.636  8.036         0        0  102   sc  102_1b1_Ar_sc_Meditron"
      ]
     },
     "execution_count": 20,
     "metadata": {},
     "output_type": "execute_result"
    }
   ],
   "source": [
    "files_data=[]\n",
    "for file in files:\n",
    "    data=pd.read_csv(path + file + '.txt',sep='\\t',names=['start','end','crackles','weezels'])\n",
    "    name_data=getFilenameInfo(file)\n",
    "    data['pid']=name_data[0]\n",
    "    data['mode']=name_data[-2]\n",
    "    data['filename']=file\n",
    "    files_data.append(data)\n",
    "files_df=pd.concat(files_data)\n",
    "files_df.reset_index()\n",
    "files_df.head()"
   ]
  },
  {
   "cell_type": "code",
   "execution_count": 21,
   "metadata": {},
   "outputs": [
    {
     "name": "stdout",
     "output_type": "stream",
     "text": [
      "<class 'pandas.core.frame.DataFrame'>\n",
      "RangeIndex: 126 entries, 0 to 125\n",
      "Data columns (total 2 columns):\n",
      " #   Column   Non-Null Count  Dtype \n",
      "---  ------   --------------  ----- \n",
      " 0   pid      126 non-null    int64 \n",
      " 1   disease  126 non-null    object\n",
      "dtypes: int64(1), object(1)\n",
      "memory usage: 2.1+ KB\n"
     ]
    }
   ],
   "source": [
    "patient_data.info()"
   ]
  },
  {
   "cell_type": "code",
   "execution_count": 22,
   "metadata": {},
   "outputs": [
    {
     "name": "stdout",
     "output_type": "stream",
     "text": [
      "<class 'pandas.core.frame.DataFrame'>\n",
      "Index: 1005 entries, 0 to 4\n",
      "Data columns (total 7 columns):\n",
      " #   Column    Non-Null Count  Dtype  \n",
      "---  ------    --------------  -----  \n",
      " 0   start     1005 non-null   float64\n",
      " 1   end       1005 non-null   float64\n",
      " 2   crackles  1005 non-null   int64  \n",
      " 3   weezels   1005 non-null   int64  \n",
      " 4   pid       1005 non-null   object \n",
      " 5   mode      1005 non-null   object \n",
      " 6   filename  1005 non-null   object \n",
      "dtypes: float64(2), int64(2), object(3)\n",
      "memory usage: 62.8+ KB\n"
     ]
    }
   ],
   "source": [
    "files_df.info()"
   ]
  },
  {
   "cell_type": "code",
   "execution_count": 23,
   "metadata": {},
   "outputs": [],
   "source": [
    "patient_data.pid=patient_data.pid.astype('int32')\n",
    "files_df.pid=files_df.pid.astype('int32')"
   ]
  },
  {
   "cell_type": "code",
   "execution_count": 24,
   "metadata": {},
   "outputs": [
    {
     "data": {
      "text/html": [
       "<div>\n",
       "<style scoped>\n",
       "    .dataframe tbody tr th:only-of-type {\n",
       "        vertical-align: middle;\n",
       "    }\n",
       "\n",
       "    .dataframe tbody tr th {\n",
       "        vertical-align: top;\n",
       "    }\n",
       "\n",
       "    .dataframe thead th {\n",
       "        text-align: right;\n",
       "    }\n",
       "</style>\n",
       "<table border=\"1\" class=\"dataframe\">\n",
       "  <thead>\n",
       "    <tr style=\"text-align: right;\">\n",
       "      <th></th>\n",
       "      <th>start</th>\n",
       "      <th>end</th>\n",
       "      <th>crackles</th>\n",
       "      <th>weezels</th>\n",
       "      <th>pid</th>\n",
       "      <th>mode</th>\n",
       "      <th>filename</th>\n",
       "      <th>disease</th>\n",
       "    </tr>\n",
       "  </thead>\n",
       "  <tbody>\n",
       "    <tr>\n",
       "      <th>0</th>\n",
       "      <td>0.264</td>\n",
       "      <td>1.736</td>\n",
       "      <td>0</td>\n",
       "      <td>0</td>\n",
       "      <td>102</td>\n",
       "      <td>sc</td>\n",
       "      <td>102_1b1_Ar_sc_Meditron</td>\n",
       "      <td>Healthy</td>\n",
       "    </tr>\n",
       "    <tr>\n",
       "      <th>1</th>\n",
       "      <td>1.736</td>\n",
       "      <td>3.293</td>\n",
       "      <td>0</td>\n",
       "      <td>0</td>\n",
       "      <td>102</td>\n",
       "      <td>sc</td>\n",
       "      <td>102_1b1_Ar_sc_Meditron</td>\n",
       "      <td>Healthy</td>\n",
       "    </tr>\n",
       "    <tr>\n",
       "      <th>2</th>\n",
       "      <td>3.293</td>\n",
       "      <td>5.307</td>\n",
       "      <td>0</td>\n",
       "      <td>0</td>\n",
       "      <td>102</td>\n",
       "      <td>sc</td>\n",
       "      <td>102_1b1_Ar_sc_Meditron</td>\n",
       "      <td>Healthy</td>\n",
       "    </tr>\n",
       "    <tr>\n",
       "      <th>3</th>\n",
       "      <td>5.307</td>\n",
       "      <td>6.636</td>\n",
       "      <td>0</td>\n",
       "      <td>0</td>\n",
       "      <td>102</td>\n",
       "      <td>sc</td>\n",
       "      <td>102_1b1_Ar_sc_Meditron</td>\n",
       "      <td>Healthy</td>\n",
       "    </tr>\n",
       "    <tr>\n",
       "      <th>4</th>\n",
       "      <td>6.636</td>\n",
       "      <td>8.036</td>\n",
       "      <td>0</td>\n",
       "      <td>0</td>\n",
       "      <td>102</td>\n",
       "      <td>sc</td>\n",
       "      <td>102_1b1_Ar_sc_Meditron</td>\n",
       "      <td>Healthy</td>\n",
       "    </tr>\n",
       "  </tbody>\n",
       "</table>\n",
       "</div>"
      ],
      "text/plain": [
       "   start    end  crackles  weezels  pid mode                filename  disease\n",
       "0  0.264  1.736         0        0  102   sc  102_1b1_Ar_sc_Meditron  Healthy\n",
       "1  1.736  3.293         0        0  102   sc  102_1b1_Ar_sc_Meditron  Healthy\n",
       "2  3.293  5.307         0        0  102   sc  102_1b1_Ar_sc_Meditron  Healthy\n",
       "3  5.307  6.636         0        0  102   sc  102_1b1_Ar_sc_Meditron  Healthy\n",
       "4  6.636  8.036         0        0  102   sc  102_1b1_Ar_sc_Meditron  Healthy"
      ]
     },
     "execution_count": 24,
     "metadata": {},
     "output_type": "execute_result"
    }
   ],
   "source": [
    "data=pd.merge(files_df,patient_data,on='pid')\n",
    "data.head()"
   ]
  },
  {
   "cell_type": "code",
   "execution_count": 25,
   "metadata": {},
   "outputs": [],
   "source": [
    "data.to_csv('data/data.csv',index=False)"
   ]
  },
  {
   "cell_type": "markdown",
   "metadata": {},
   "source": [
    "# Processing Audio files"
   ]
  },
  {
   "cell_type": "code",
   "execution_count": 26,
   "metadata": {},
   "outputs": [],
   "source": [
    "if not os.path.exists('data/processed_audio_files'):\n",
    "    os.makedirs('data/processed_audio_files')"
   ]
  },
  {
   "cell_type": "code",
   "execution_count": 27,
   "metadata": {},
   "outputs": [],
   "source": [
    "def getPureSample(raw_data,start,end,sr=22050):\n",
    "    '''\n",
    "    Takes a numpy array and spilts its using start and end args\n",
    "    \n",
    "    raw_data=numpy array of audio sample\n",
    "    start=time\n",
    "    end=time\n",
    "    sr=sampling_rate\n",
    "    mode=mono/stereo\n",
    "    \n",
    "    '''\n",
    "    max_ind = len(raw_data) \n",
    "    start_ind = min(int(start * sr), max_ind)\n",
    "    end_ind = min(int(end * sr), max_ind)\n",
    "    return raw_data[start_ind: end_ind]"
   ]
  },
  {
   "cell_type": "code",
   "execution_count": 28,
   "metadata": {},
   "outputs": [
    {
     "name": "stdout",
     "output_type": "stream",
     "text": [
      "Total Files Processed:  1005\n"
     ]
    }
   ],
   "source": [
    "i,c=0,0\n",
    "for index,row in data.iterrows():\n",
    "    maxLen=6\n",
    "    start=row['start']\n",
    "    end=row['end']\n",
    "    filename=row['filename']\n",
    "    \n",
    "    #If len > maxLen , change it to maxLen\n",
    "    if end-start>maxLen:\n",
    "        end=start+maxLen\n",
    "    \n",
    "    audio_file_loc=path + filename + '.wav'\n",
    "    \n",
    "    if index > 0:\n",
    "        #check if more cycles exits for same patient if so then add i to change filename\n",
    "        if data.iloc[index-1]['filename']==filename:\n",
    "            i+=1\n",
    "        else:\n",
    "            i=0\n",
    "    filename= filename + '_' + str(i) + '.wav'\n",
    "    \n",
    "    save_path='data/processed_audio_files/' + filename\n",
    "    c+=1\n",
    "    \n",
    "    audioArr,sampleRate=lb.load(audio_file_loc)\n",
    "    pureSample=getPureSample(audioArr,start,end,sampleRate)\n",
    "    \n",
    "    #pad audio if pureSample len < max_len\n",
    "    reqLen=6*sampleRate\n",
    "    padded_data = lb.util.pad_center(pureSample, size=reqLen)\n",
    "    \n",
    "    sf.write(file=save_path,data=padded_data,samplerate=sampleRate)\n",
    "print('Total Files Processed: ',c)"
   ]
  }
 ],
 "metadata": {
  "kernelspec": {
   "display_name": "Python 3",
   "language": "python",
   "name": "python3"
  },
  "language_info": {
   "codemirror_mode": {
    "name": "ipython",
    "version": 3
   },
   "file_extension": ".py",
   "mimetype": "text/x-python",
   "name": "python",
   "nbconvert_exporter": "python",
   "pygments_lexer": "ipython3",
   "version": "3.12.0"
  }
 },
 "nbformat": 4,
 "nbformat_minor": 2
}
